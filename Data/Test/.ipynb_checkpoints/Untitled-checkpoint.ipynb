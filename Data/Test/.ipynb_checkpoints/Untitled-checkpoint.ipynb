{
 "cells": [
  {
   "cell_type": "code",
   "execution_count": 2,
   "metadata": {},
   "outputs": [],
   "source": [
    "import os\n",
    "import pandas as pd"
   ]
  },
  {
   "cell_type": "code",
   "execution_count": 7,
   "metadata": {},
   "outputs": [
    {
     "name": "stdout",
     "output_type": "stream",
     "text": [
      "1525\n",
      "1525\n",
      "1525\n",
      "1525\n",
      "1525\n",
      "1525\n",
      "1525\n",
      "1525\n",
      "1525\n",
      "1525\n"
     ]
    }
   ],
   "source": [
    "directory = \"C:\\Users\\MaxShaps\\Desktop\\Written Documents\\Python\\114th Senate\\Data\\Test\\\\\"\n",
    "\n",
    "for file in os.listdir(directory):\n",
    "    if file.endswith(\".xls\"):\n",
    "        filename = os.path.basename(file)\n",
    "        print(filename.partition('_')[2].partition('_')[0])\n",
    "        df1 = pd.read_excel(directory + filename, sheet_name=0)\n",
    "        df2 = pd.read_excel(directory + filename, sheet_name=1)\n",
    "        df3 = pd.read_excel(directory + filename, sheet_name=2)\n",
    "        \n",
    "    \n",
    "        dfout = pd.merge(df1, df2, on=['icpsr','id','name','state_abbrev'], how='inner')\n",
    "        dfout = dfout.drop(columns=['district_code','cqlabel'])\n",
    "        \n",
    "        df3 = df3.drop(columns=['vote'])\n",
    "        df3 = df3.rename(index=str, columns={'id': 'rollcallvote_id'})\n",
    "\n",
    "        df3 = pd.concat([df3]*len(dfout), ignore_index=True)\n",
    "       \n",
    "        dfout = dfout.join(df3)\n",
    "        #outfilename = str(dfout['rollnumber'][0]) + '.csv'\n",
    "\n",
    "        #dfout.to_csv(path_or_buf=outfilename, header=True)"
   ]
  },
  {
   "cell_type": "code",
   "execution_count": 49,
   "metadata": {},
   "outputs": [
    {
     "data": {
      "text/html": [
       "<div>\n",
       "<style scoped>\n",
       "    .dataframe tbody tr th:only-of-type {\n",
       "        vertical-align: middle;\n",
       "    }\n",
       "\n",
       "    .dataframe tbody tr th {\n",
       "        vertical-align: top;\n",
       "    }\n",
       "\n",
       "    .dataframe thead th {\n",
       "        text-align: right;\n",
       "    }\n",
       "</style>\n",
       "<table border=\"1\" class=\"dataframe\">\n",
       "  <thead>\n",
       "    <tr style=\"text-align: right;\">\n",
       "      <th></th>\n",
       "      <th>rollcallvote_id</th>\n",
       "      <th>chamber</th>\n",
       "      <th>congress</th>\n",
       "      <th>date</th>\n",
       "      <th>rollnumber</th>\n",
       "      <th>description</th>\n",
       "    </tr>\n",
       "  </thead>\n",
       "  <tbody>\n",
       "    <tr>\n",
       "      <th>0</th>\n",
       "      <td>RS1140001</td>\n",
       "      <td>Senate</td>\n",
       "      <td>114</td>\n",
       "      <td>2015-01-08</td>\n",
       "      <td>1</td>\n",
       "      <td>In the nature of a substitute.</td>\n",
       "    </tr>\n",
       "  </tbody>\n",
       "</table>\n",
       "</div>"
      ],
      "text/plain": [
       "  rollcallvote_id chamber  congress        date  rollnumber  \\\n",
       "0       RS1140001  Senate       114  2015-01-08           1   \n",
       "\n",
       "                      description  \n",
       "0  In the nature of a substitute.  "
      ]
     },
     "execution_count": 49,
     "metadata": {},
     "output_type": "execute_result"
    }
   ],
   "source": [
    "df3.head()"
   ]
  },
  {
   "cell_type": "code",
   "execution_count": null,
   "metadata": {},
   "outputs": [],
   "source": []
  }
 ],
 "metadata": {
  "kernelspec": {
   "display_name": "Python 2",
   "language": "python",
   "name": "python2"
  },
  "language_info": {
   "codemirror_mode": {
    "name": "ipython",
    "version": 2
   },
   "file_extension": ".py",
   "mimetype": "text/x-python",
   "name": "python",
   "nbconvert_exporter": "python",
   "pygments_lexer": "ipython2",
   "version": "2.7.15"
  }
 },
 "nbformat": 4,
 "nbformat_minor": 2
}
